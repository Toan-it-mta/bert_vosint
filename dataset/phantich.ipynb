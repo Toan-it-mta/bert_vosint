{
 "cells": [
  {
   "cell_type": "code",
   "execution_count": 5,
   "metadata": {},
   "outputs": [
    {
     "name": "stderr",
     "output_type": "stream",
     "text": [
      "/home/nlp_team/.local/lib/python3.8/site-packages/tqdm/auto.py:21: TqdmWarning: IProgress not found. Please update jupyter and ipywidgets. See https://ipywidgets.readthedocs.io/en/stable/user_install.html\n",
      "  from .autonotebook import tqdm as notebook_tqdm\n"
     ]
    }
   ],
   "source": [
    "from transformers import AutoTokenizer\n",
    "import json\n",
    "from tqdm import tqdm"
   ]
  },
  {
   "cell_type": "code",
   "execution_count": 30,
   "metadata": {},
   "outputs": [
    {
     "data": {
      "text/plain": [
       "DatasetDict({\n",
       "    train: Dataset({\n",
       "        features: ['text', 'label'],\n",
       "        num_rows: 2224\n",
       "    })\n",
       "    test: Dataset({\n",
       "        features: ['text', 'label'],\n",
       "        num_rows: 1002\n",
       "    })\n",
       "})"
      ]
     },
     "execution_count": 30,
     "metadata": {},
     "output_type": "execute_result"
    }
   ],
   "source": [
    "import pandas as pd\n",
    "from datasets import Dataset, DatasetDict\n",
    "\n",
    "with open(\"vosint.json\", encoding='utf-8') as f:\n",
    "    vosint = json.load(f)\n",
    "\n",
    "train_json = vosint['train']\n",
    "test_json = vosint['test']\n",
    "# with open(\"test.json\", encoding='utf-8') as f:\n",
    "#     test_dataset = json.load(f)\n",
    "\n",
    "dataset = {}\n",
    "dataset\n",
    "mapping = {\n",
    "    \"tieu_cuc\": 0,\n",
    "    \"trung_tinh\": 1,\n",
    "    \"tich_cuc\": 2\n",
    "}\n",
    "train_df = pd.DataFrame.from_dict(train_json)\n",
    "test_df  = pd.DataFrame.from_dict(test_json)\n",
    "\n",
    "dataset_train = Dataset.from_pandas(train_df)\n",
    "dataset_test = Dataset.from_pandas(test_df)\n",
    "\n",
    "dataset = DatasetDict()\n",
    "dataset['train'] = dataset_train\n",
    "dataset['test'] = dataset_test\n",
    "\n",
    "dataset.sa\n",
    "# train = [] \n",
    "# for record in train_dataset:\n",
    "#     new_record = {}\n",
    "#     new_record['text'] = record['title'].strip()+\". \"+record.get('description',\"\").strip()+record['text'].strip()\n",
    "#     new_record['label'] = mapping[record['label'][-1]]\n",
    "#     train.append(new_record)\n",
    "\n",
    "# test = [] \n",
    "# for record in test_dataset:\n",
    "#     new_record = {}\n",
    "#     new_record['text'] = record['title'].strip()+\". \"+record.get('description',\"\").strip()+record['text'].strip()\n",
    "#     new_record['label'] = mapping[record['label'][-1]]\n",
    "#     test.append(new_record)"
   ]
  },
  {
   "cell_type": "code",
   "execution_count": 7,
   "metadata": {},
   "outputs": [
    {
     "data": {
      "text/plain": [
       "<py_vncorenlp.vncorenlp.VnCoreNLP at 0x7f5d0be40160>"
      ]
     },
     "execution_count": 7,
     "metadata": {},
     "output_type": "execute_result"
    }
   ],
   "source": [
    "rdrsegmenter"
   ]
  },
  {
   "cell_type": "code",
   "execution_count": 14,
   "metadata": {},
   "outputs": [
    {
     "name": "stderr",
     "output_type": "stream",
     "text": [
      "Special tokens have been added in the vocabulary, make sure the associated word embeddings are fine-tuned or trained.\n",
      "  0%|          | 0/3226 [00:00<?, ?it/s]Token indices sequence length is longer than the specified maximum sequence length for this model (293 > 256). Running this sequence through the model will result in indexing errors\n",
      "100%|██████████| 3226/3226 [00:28<00:00, 111.77it/s]"
     ]
    },
    {
     "name": "stdout",
     "output_type": "stream",
     "text": [
      "0.5390576565406076\n"
     ]
    },
    {
     "name": "stderr",
     "output_type": "stream",
     "text": [
      "\n"
     ]
    }
   ],
   "source": [
    "tokenizer = AutoTokenizer.from_pretrained(\"vinai/phobert-base\")\n",
    "dataset = train_dataset+test_dataset\n",
    "len(dataset)\n",
    "count=0\n",
    "len_token = []\n",
    "for record in tqdm(dataset):\n",
    "    text =  record['title'].strip()+record.get('description',\"\").strip()+record['text'].strip()\n",
    "    text = \" \".join(rdrsegmenter.word_segment(text))\n",
    "    token = tokenizer(text)\n",
    "    len_token.append(len(token['input_ids']))\n",
    "    if len(token['input_ids']) > 512:\n",
    "        count+=1\n",
    "print(count/len(dataset))"
   ]
  },
  {
   "cell_type": "code",
   "execution_count": 13,
   "metadata": {},
   "outputs": [
    {
     "name": "stdout",
     "output_type": "stream",
     "text": [
      "0.49566026038437694\n"
     ]
    }
   ],
   "source": [
    "print(count/len(dataset))"
   ]
  },
  {
   "cell_type": "code",
   "execution_count": 11,
   "metadata": {},
   "outputs": [
    {
     "data": {
      "text/plain": [
       "tensor(647.4647)"
      ]
     },
     "execution_count": 11,
     "metadata": {},
     "output_type": "execute_result"
    }
   ],
   "source": [
    "import torch\n",
    "a = torch.Tensor(len_token)\n",
    "a.mean()"
   ]
  },
  {
   "cell_type": "code",
   "execution_count": 1,
   "metadata": {},
   "outputs": [
    {
     "name": "stdout",
     "output_type": "stream",
     "text": [
      "2023-07-06 09:45:10 INFO  WordSegmenter:24 - Loading Word Segmentation model\n"
     ]
    }
   ],
   "source": [
    "import py_vncorenlp\n",
    "\n",
    "# Automatically download VnCoreNLP components from the original repository\n",
    "# and save them in some local machine folder\n",
    "py_vncorenlp.download_model(save_dir='./')\n",
    "\n",
    "# Load the word and sentence segmentation component\n",
    "rdrsegmenter = py_vncorenlp.VnCoreNLP(annotators=[\"wseg\"], save_dir='/media/nlp_team/nlpteam/toan/bert_vosint/dataset')\n",
    "# text = \"\"\"Trong thời gian vừa qua, câu chuyện hiệu trưởng trường Đại học Tôn Đức Thắng bị kỷ luật cách chức đã và đang được sự quan tâm rất lớn của dư luận xã hội, cử tri cả nước, cũng như đã làm nóng phiên chất vấn của Quốc hội vừa qua.\\nPhóng viên Dân trí đã có cuộc trao đổi với TS. Nguyễn Sĩ Dũng, Nguyên Phó chủ nhiệm Văn phòng Quốc hội về vấn đề này.\\nPhóng viên: Thành tích của Đại học Tôn Đức Thắng (TDTU) đã được nhiều nhà lãnh đạo, nhà quản lý, đối tác và các tổ chức xếp hạng uy tín quốc tế đánh giá cao, được xem là điểm sáng của tự chủ đại học Việt Nam nhưng hiệu trưởng của trường này vừa bị kỷ luật cách chức. Ông có suy nghĩ gì về việc này?\\nTS. Nguyễn Sĩ Dũng: Quả thật, tôi thấy rất băn khoăn. Tự chủ đại học là chủ trương lớn của Đảng, đã được cụ thể hóa trong Luật sửa đổi, bổ sung một số điều của Luật giáo dục đại học và trong Nghị định 99/2019/NĐ-CP.\\nTrường Đại học Tôn Đức Thắng đã đi tiên phong thực hiện thí điểm tự chủ đại học và đã đạt kết quả tích cực. Trong cùng một thời điểm, các tổ chức xếp hạng quốc tế đánh giá TDTU có thứ hạng trong TOP 800 (AWRU) và 700 (US News) trường đại học tốt nhất thế giới và là cơ sở giáo dục đại học số 1 của Việt Nam.\\nĐây quả thật là một thành tích mà ngành giáo dục đại học của nước ta, cũng như TP HCM có thể tự hào. Chính vì vậy, mọi sự việc liên quan đến TDTU cần được xem xét một cách hết sức cẩn trọng. Kỷ luật Hiệu trưởng của trường trong bối cảnh như nói trên dễ làm cho dư luận dị nghị vì điều này rất khó hiểu và rất bất hợp lý.\\nNgoài ra, cũng cần thấy rằng thí điểm là làm theo cách mới, theo chuẩn mực mới. Áp đặt cách cũ, chuẩn mực cũ thì còn thí điểm cái gì?\\nQua theo dõi vụ việc Hiệu trưởng TDTU bị kỷ luật trên phương tiện truyền thông, tôi thấy sai phạm được nêu ra không có gì thật cụ thể và kết luận vi phạm cũng rất chung chung.\\nTôi được biết ông Lê Vinh Danh, cựu Hiệu trưởng của TDTU cũng đang có khiếu nại về quyết định kỷ luật Đảng và quyết định kỷ luật cách chức đối với ông.\\nPhóng viên: Tại phiên chất vấn sáng ngày 6/11 của Quốc hội, Đại biểu Lê Thanh Vân đã nêu câu hỏi và 2 lần tranh luận xung quanh việc cách chức hiệu trưởng TDTU, ông có đánh giá gì về vấn đề này?\\nTS. Nguyễn Sĩ Dũng: Trước hết, việc đại biểu Quốc hội chất vấn ở diễn đàn của Quốc hội cho thấy đây là vấn đề có tầm quan trọng đối với quốc gia và là vấn đề đang được dư luận xã hội quan tâm.\\nThứ hai, tôi ủng hộ quan điểm của đại biểu Quốc hội Lê Thanh Vân. Việc cách chức ông Lê Vinh Danh phải tuân thủ các quy định của pháp luật. \\nLuật Giáo dục đại học và Nghị định 99/2019 hướng dẫn thi hành đều quy định rất rõ về thẩm quyền của hội đồng trường, của cơ quan chủ quản trong việc quyết định nhân sự chức danh hiệu trưởng, cũng như thủ tục để tiến hành công việc này. Quan trọng là phải tuân thủ các quy định nói trên, thì việc cách chức ông Lê Vinh Danh mới hợp pháp được.\\nThậm chí khuyết hội đồng trường cũng không phải là lý do để cơ quan chủ quản có thể trực tiếp cách chức hiệu trưởng.\\nĐiểm a Khoản 6 Điều 7 của Nghị định 99/2019 quy định: “Trường hợp nhiệm kỳ của hiệu trưởng kết thúc đồng thời với nhiệm kỳ của hội đồng trường thì hiệu trưởng được kéo dài thời gian thực hiện nhiệm vụ cho đến khi cơ quan quản lý trực tiếp công nhận hiệu trưởng của nhiệm kỳ kế tiếp, trên cơ sở đề nghị của hội đồng trường nhiệm kỳ kế tiếp”. Như vậy, việc cách chức ông Lê Vinh Danh là rõ ràng là chưa tuân thủ quy định này của pháp luật.\\nTôi cũng tán thành lập luận của đại biểu Lê Thanh Vân là: khi xử lý một vấn đề pháp lý, chúng ta cần phải áp dụng văn bản luật chuyên ngành trước, chỉ khi nào không có luật chuyên ngành hoặc luật chuyên ngành không quy định thì mới áp dụng văn bản pháp luật khác có liên quan.\\nVới thực tế như trên trên, tôi cho rằng cơ quan chủ quản nên xem xét lại quyết định cách chức ông Lê Vinh Danh của mình để tránh bị kiện tụng và tránh gây ra một cuộc khủng hoảng truyền thông không đáng có.\\nPhóng viên: Từ sự việc này, theo ông cần rút ra bài học gì cho các cơ quan, tổ chức có trường đại học  đang vận dụng mô hình tự chủ?\\nTS. Nguyễn Sĩ Dũng: Tự chủ đại học là chủ trương lớn, phản ánh tầm nhìn chiến lược của Đảng và Nhà nước ta. Tuy nhiên, đây là một công việc rất mới, đồng thời rất khó. Để hiện thực hóa chủ trương này, những người dám dấn thân, dám đi tiên phong như ông Lê Vinh Danh cần phải được bảo vệ.\\nPhóng viên: Xin trân trọng cảm ơn ông!\"\"\"\n",
    "# output = rdrsegmenter(text)\n",
    "# output"
   ]
  },
  {
   "cell_type": "code",
   "execution_count": 4,
   "metadata": {},
   "outputs": [
    {
     "data": {
      "text/plain": [
       "['Trong thời_gian vừa_qua , câu_chuyện hiệu_trưởng trường Đại_học Tôn_Đức_Thắng bị kỷ_luật cách_chức đã và đang được sự quan_tâm rất lớn của dư_luận xã_hội , cử_tri cả nước , cũng như đã làm nóng phiên chất_vấn của Quốc_hội vừa_qua .',\n",
       " 'Phóng_viên Dân_trí đã có cuộc trao_đổi với TS .',\n",
       " 'Nguyễn_Sĩ_Dũng , Nguyên Phó chủ_nhiệm Văn_phòng Quốc_hội về vấn_đề này .',\n",
       " 'Phóng_viên : Thành_tích của Đại_học Tôn_Đức_Thắng ( TDTU ) đã được nhiều nhà_lãnh_đạo , nhà_quản_lý , đối_tác và các tổ_chức xếp_hạng uy_tín quốc_tế đánh_giá cao , được xem là điểm sáng của tự_chủ đại_học Việt_Nam nhưng hiệu_trưởng của trường này vừa bị kỷ_luật cách_chức .',\n",
       " 'Ông có suy_nghĩ gì về việc này ?',\n",
       " 'TS .',\n",
       " 'Nguyễn_Sĩ_Dũng : Quả_thật , tôi thấy rất băn_khoăn .',\n",
       " 'Tự_chủ đại_học là chủ_trương lớn của Đảng , đã được cụ_thể_hoá trong Luật sửa_đổi , bổ_sung một_số điều của Luật_giáo_dục đại_học và trong Nghị_định 99/2019/NĐ-CP. Trường Đại_học Tôn_Đức_Thắng đã đi tiên_phong thực_hiện thí_điểm tự_chủ đại_học và đã đạt kết_quả tích_cực .',\n",
       " 'Trong cùng một thời_điểm , các tổ_chức xếp_hạng quốc_tế đánh_giá TDTU có thứ_hạng trong TOP 800 ( AWRU ) và 700 ( US News ) trường đại_học tốt nhất thế_giới và là cơ_sở giáo_dục đại_học số 1 của Việt_Nam .',\n",
       " 'Đây quả_thật là một thành_tích mà ngành giáo_dục đại_học của nước ta , cũng như TP HCM có_thể tự_hào .',\n",
       " 'Chính vì_vậy , mọi sự_việc liên_quan đến TDTU cần được xem_xét một_cách hết_sức cẩn_trọng .',\n",
       " 'Kỷ_luật Hiệu_trưởng của trường trong bối_cảnh như nói trên dễ làm cho dư_luận dị_nghị vì điều này rất khó hiểu và rất bất_hợp_lý .',\n",
       " 'Ngoài_ra , cũng cần thấy rằng thí_điểm là làm theo cách mới , theo chuẩn_mực mới .',\n",
       " 'Áp_đặt cách cũ , chuẩn_mực cũ thì còn thí_điểm cái gì ?',\n",
       " 'Qua theo_dõi vụ_việc Hiệu_trưởng TDTU bị kỷ_luật trên phương_tiện truyền_thông , tôi thấy sai_phạm được nêu ra không có gì thật cụ_thể và kết_luận vi_phạm cũng rất chung_chung .',\n",
       " 'Tôi được biết ông Lê_Vinh_Danh , cựu Hiệu_trưởng của TDTU cũng đang có khiếu_nại về quyết_định kỷ_luật Đảng và quyết_định kỷ_luật cách_chức đối_với ông .',\n",
       " 'Phóng_viên : Tại phiên chất_vấn sáng ngày 6/11 của Quốc_hội , Đại_biểu Lê_Thanh_Vân đã nêu câu hỏi và 2 lần tranh_luận xung_quanh việc cách_chức hiệu_trưởng TDTU , ông có đánh_giá gì về vấn_đề này ?',\n",
       " 'TS .',\n",
       " 'Nguyễn_Sĩ_Dũng : Trước_hết , việc đại_biểu Quốc_hội chất_vấn ở diễn_đàn của Quốc_hội cho thấy đây là vấn_đề có tầm quan_trọng đối_với quốc_gia và là vấn_đề đang được dư_luận xã_hội quan_tâm .',\n",
       " 'Thứ hai , tôi ủng_hộ quan_điểm của đại_biểu Quốc_hội Lê_Thanh_Vân .',\n",
       " 'Việc cách_chức ông Lê_Vinh_Danh phải tuân_thủ các quy_định của pháp_luật .',\n",
       " '\\xa0 Luật_Giáo_dục đại_học và Nghị_định 99/2019 hướng_dẫn thi_hành đều quy_định rất rõ về thẩm_quyền của hội_đồng trường , của cơ_quan chủ_quản trong việc quyết_định nhân_sự chức_danh hiệu_trưởng , cũng như thủ_tục để tiến_hành công_việc này .',\n",
       " 'Quan_trọng là phải tuân_thủ các quy_định nói trên , thì việc cách_chức ông Lê_Vinh_Danh mới hợp_pháp được .',\n",
       " 'Thậm_chí khuyết hội_đồng trường cũng không phải là lý_do để cơ_quan chủ_quản có_thể trực_tiếp cách_chức hiệu_trưởng .',\n",
       " 'Điểm a Khoản 6 Điều 7 của Nghị_định 99/2019 quy_định : “ Trường_hợp nhiệm_kỳ của hiệu_trưởng kết_thúc đồng_thời với nhiệm_kỳ của hội_đồng trường thì hiệu_trưởng được kéo_dài thời_gian thực_hiện nhiệm_vụ cho đến khi cơ_quan quản_lý trực_tiếp công_nhận hiệu_trưởng của nhiệm_kỳ kế_tiếp , trên cơ_sở đề_nghị của hội_đồng trường nhiệm_kỳ kế_tiếp ” .',\n",
       " 'Như_vậy , việc cách_chức ông Lê_Vinh_Danh là rõ_ràng là chưa tuân_thủ quy_định này của pháp_luật .',\n",
       " 'Tôi cũng tán_thành lập_luận của đại_biểu Lê_Thanh_Vân là : khi xử_lý một vấn_đề pháp_lý , chúng_ta cần phải áp_dụng văn_bản luật chuyên_ngành trước , chỉ khi nào không có luật chuyên_ngành hoặc luật chuyên_ngành không quy_định thì mới áp_dụng văn_bản pháp_luật khác có liên_quan .',\n",
       " 'Với thực_tế như trên trên , tôi cho rằng cơ_quan chủ_quản nên xem_xét lại quyết_định cách_chức ông Lê_Vinh_Danh của mình để tránh bị kiện_tụng và tránh gây ra một cuộc khủng_hoảng truyền_thông không đáng có .',\n",
       " 'Phóng_viên : Từ sự_việc này , theo ông cần rút ra bài_học gì cho các cơ_quan , tổ_chức có trường đại học\\xa0 đang vận_dụng mô_hình tự_chủ ?',\n",
       " 'TS .',\n",
       " 'Nguyễn_Sĩ_Dũng : Tự_chủ đại_học là chủ_trương lớn , phản_ánh tầm nhìn chiến_lược của Đảng và Nhà_nước ta .',\n",
       " 'Tuy_nhiên , đây là một công_việc rất mới , đồng_thời rất khó .',\n",
       " 'Để hiện_thực_hoá chủ_trương này , những người dám dấn_thân , dám đi tiên_phong như ông Lê_Vinh_Danh cần phải được bảo_vệ .',\n",
       " 'Phóng_viên : Xin trân_trọng cảm_ơn ông !']"
      ]
     },
     "execution_count": 4,
     "metadata": {},
     "output_type": "execute_result"
    }
   ],
   "source": [
    "text = \"\"\"Trong thời gian vừa qua, câu chuyện hiệu trưởng trường Đại học Tôn Đức Thắng bị kỷ luật cách chức đã và đang được sự quan tâm rất lớn của dư luận xã hội, cử tri cả nước, cũng như đã làm nóng phiên chất vấn của Quốc hội vừa qua.\\nPhóng viên Dân trí đã có cuộc trao đổi với TS. Nguyễn Sĩ Dũng, Nguyên Phó chủ nhiệm Văn phòng Quốc hội về vấn đề này.\\nPhóng viên: Thành tích của Đại học Tôn Đức Thắng (TDTU) đã được nhiều nhà lãnh đạo, nhà quản lý, đối tác và các tổ chức xếp hạng uy tín quốc tế đánh giá cao, được xem là điểm sáng của tự chủ đại học Việt Nam nhưng hiệu trưởng của trường này vừa bị kỷ luật cách chức. Ông có suy nghĩ gì về việc này?\\nTS. Nguyễn Sĩ Dũng: Quả thật, tôi thấy rất băn khoăn. Tự chủ đại học là chủ trương lớn của Đảng, đã được cụ thể hóa trong Luật sửa đổi, bổ sung một số điều của Luật giáo dục đại học và trong Nghị định 99/2019/NĐ-CP.\\nTrường Đại học Tôn Đức Thắng đã đi tiên phong thực hiện thí điểm tự chủ đại học và đã đạt kết quả tích cực. Trong cùng một thời điểm, các tổ chức xếp hạng quốc tế đánh giá TDTU có thứ hạng trong TOP 800 (AWRU) và 700 (US News) trường đại học tốt nhất thế giới và là cơ sở giáo dục đại học số 1 của Việt Nam.\\nĐây quả thật là một thành tích mà ngành giáo dục đại học của nước ta, cũng như TP HCM có thể tự hào. Chính vì vậy, mọi sự việc liên quan đến TDTU cần được xem xét một cách hết sức cẩn trọng. Kỷ luật Hiệu trưởng của trường trong bối cảnh như nói trên dễ làm cho dư luận dị nghị vì điều này rất khó hiểu và rất bất hợp lý.\\nNgoài ra, cũng cần thấy rằng thí điểm là làm theo cách mới, theo chuẩn mực mới. Áp đặt cách cũ, chuẩn mực cũ thì còn thí điểm cái gì?\\nQua theo dõi vụ việc Hiệu trưởng TDTU bị kỷ luật trên phương tiện truyền thông, tôi thấy sai phạm được nêu ra không có gì thật cụ thể và kết luận vi phạm cũng rất chung chung.\\nTôi được biết ông Lê Vinh Danh, cựu Hiệu trưởng của TDTU cũng đang có khiếu nại về quyết định kỷ luật Đảng và quyết định kỷ luật cách chức đối với ông.\\nPhóng viên: Tại phiên chất vấn sáng ngày 6/11 của Quốc hội, Đại biểu Lê Thanh Vân đã nêu câu hỏi và 2 lần tranh luận xung quanh việc cách chức hiệu trưởng TDTU, ông có đánh giá gì về vấn đề này?\\nTS. Nguyễn Sĩ Dũng: Trước hết, việc đại biểu Quốc hội chất vấn ở diễn đàn của Quốc hội cho thấy đây là vấn đề có tầm quan trọng đối với quốc gia và là vấn đề đang được dư luận xã hội quan tâm.\\nThứ hai, tôi ủng hộ quan điểm của đại biểu Quốc hội Lê Thanh Vân. Việc cách chức ông Lê Vinh Danh phải tuân thủ các quy định của pháp luật. \\nLuật Giáo dục đại học và Nghị định 99/2019 hướng dẫn thi hành đều quy định rất rõ về thẩm quyền của hội đồng trường, của cơ quan chủ quản trong việc quyết định nhân sự chức danh hiệu trưởng, cũng như thủ tục để tiến hành công việc này. Quan trọng là phải tuân thủ các quy định nói trên, thì việc cách chức ông Lê Vinh Danh mới hợp pháp được.\\nThậm chí khuyết hội đồng trường cũng không phải là lý do để cơ quan chủ quản có thể trực tiếp cách chức hiệu trưởng.\\nĐiểm a Khoản 6 Điều 7 của Nghị định 99/2019 quy định: “Trường hợp nhiệm kỳ của hiệu trưởng kết thúc đồng thời với nhiệm kỳ của hội đồng trường thì hiệu trưởng được kéo dài thời gian thực hiện nhiệm vụ cho đến khi cơ quan quản lý trực tiếp công nhận hiệu trưởng của nhiệm kỳ kế tiếp, trên cơ sở đề nghị của hội đồng trường nhiệm kỳ kế tiếp”. Như vậy, việc cách chức ông Lê Vinh Danh là rõ ràng là chưa tuân thủ quy định này của pháp luật.\\nTôi cũng tán thành lập luận của đại biểu Lê Thanh Vân là: khi xử lý một vấn đề pháp lý, chúng ta cần phải áp dụng văn bản luật chuyên ngành trước, chỉ khi nào không có luật chuyên ngành hoặc luật chuyên ngành không quy định thì mới áp dụng văn bản pháp luật khác có liên quan.\\nVới thực tế như trên trên, tôi cho rằng cơ quan chủ quản nên xem xét lại quyết định cách chức ông Lê Vinh Danh của mình để tránh bị kiện tụng và tránh gây ra một cuộc khủng hoảng truyền thông không đáng có.\\nPhóng viên: Từ sự việc này, theo ông cần rút ra bài học gì cho các cơ quan, tổ chức có trường đại học  đang vận dụng mô hình tự chủ?\\nTS. Nguyễn Sĩ Dũng: Tự chủ đại học là chủ trương lớn, phản ánh tầm nhìn chiến lược của Đảng và Nhà nước ta. Tuy nhiên, đây là một công việc rất mới, đồng thời rất khó. Để hiện thực hóa chủ trương này, những người dám dấn thân, dám đi tiên phong như ông Lê Vinh Danh cần phải được bảo vệ.\\nPhóng viên: Xin trân trọng cảm ơn ông!\"\"\"\n",
    "output = rdrsegmenter.word_segment(text)\n"
   ]
  }
 ],
 "metadata": {
  "kernelspec": {
   "display_name": "Python 3",
   "language": "python",
   "name": "python3"
  },
  "language_info": {
   "codemirror_mode": {
    "name": "ipython",
    "version": 3
   },
   "file_extension": ".py",
   "mimetype": "text/x-python",
   "name": "python",
   "nbconvert_exporter": "python",
   "pygments_lexer": "ipython3",
   "version": "3.8.16"
  },
  "orig_nbformat": 4
 },
 "nbformat": 4,
 "nbformat_minor": 2
}
