{
 "cells": [
  {
   "cell_type": "code",
   "execution_count": 6,
   "metadata": {},
   "outputs": [
    {
     "name": "stderr",
     "output_type": "stream",
     "text": [
      "[nltk_data] Downloading package punkt to\n",
      "[nltk_data]     C:\\Users\\toani\\AppData\\Roaming\\nltk_data...\n",
      "[nltk_data]   Unzipping tokenizers\\punkt.zip.\n"
     ]
    },
    {
     "data": {
      "text/plain": [
       "['Theo Quyết định được công bố chiều 5/5, ông Sơn hưởng chế độ, chính sách hưu trí theo quy định hiện hành từ 1/4.',\n",
       " 'Theo tuổi, ông Sơn sẽ nghỉ hưu vào năm 2025.',\n",
       " 'Ông Nguyễn Trường Sơn 59 tuổi, là phó giáo sư, tiến sĩ y khoa, được Thủ tướng bổ nhiệm giữ chức Thứ trưởng Y tế khi đang là Giám đốc Bệnh viện Chợ Rẫy, tháng 11/2018.',\n",
       " 'Trong năm 2022, ông đã ba lần nộp đơn xin nghỉ việc dù chưa đến tuổi nghỉ hưu.',\n",
       " 'Từ 1/11/2022, ông Sơn được thôi việc theo nguyện vọng cá nhân.',\n",
       " 'Khi đó, ông đang điều trị ung thư, vừa trải qua đợt phẫu thuật tại Bệnh viện Chợ Rẫy.',\n",
       " 'Ông Sơn có nhiều đóng góp lớn cho ngành y tế, đặc biệt là nỗ lực phát triển kỹ thuật cao trong ghép tạng.',\n",
       " 'Ông cũng là trường hợp hiếm của ngành y ba nhiệm kỳ liên tiếp làm Giám đốc Bệnh viện Chợ Rẫy.',\n",
       " 'Từ đầu năm 2020, Covid-19 bùng phát, Thứ trưởng Sơn có mặt chống dịch tại nhiều tuyến đầu như Đà Nẵng (giữa năm 2020); Bắc Giang, Bắc Ninh (đầu năm 2021); TP HCM (cuối năm 2021)...\\nThứ trưởng Sơn hai lần bị Ủy ban Kiểm tra Trung ương kỷ luật, trong đó tháng 11/2021 bị khiển trách liên quan sai phạm tại Cục Quản lý Dược và hai tháng sau bị Thủ tướng khiển trách về hành chính.',\n",
       " 'Tháng 5/2022 ông bị Ủy ban Kiểm tra Trung ương cảnh cáo liên quan sự việc tại Công ty Việt Á.']"
      ]
     },
     "execution_count": 6,
     "metadata": {},
     "output_type": "execute_result"
    }
   ],
   "source": [
    "import spacy\n",
    "nlp = spacy.load('en_core_web_sm') # or whatever model you have installed\n",
    "import nltk\n",
    "nltk.download('punkt')\n",
    "from nltk.tokenize import sent_tokenize, word_tokenize\n",
    "\n",
    "raw_text = \"\"\"Theo Quyết định được công bố chiều 5/5, ông Sơn hưởng chế độ, chính sách hưu trí theo quy định hiện hành từ 1/4.\n",
    "Theo tuổi, ông Sơn sẽ nghỉ hưu vào năm 2025.\n",
    "Ông Nguyễn Trường Sơn 59 tuổi, là phó giáo sư, tiến sĩ y khoa, được Thủ tướng bổ nhiệm giữ chức Thứ trưởng Y tế khi đang là Giám đốc Bệnh viện Chợ Rẫy, tháng 11/2018. Trong năm 2022, ông đã ba lần nộp đơn xin nghỉ việc dù chưa đến tuổi nghỉ hưu.\n",
    "Từ 1/11/2022, ông Sơn được thôi việc theo nguyện vọng cá nhân. Khi đó, ông đang điều trị ung thư, vừa trải qua đợt phẫu thuật tại Bệnh viện Chợ Rẫy.\n",
    "Ông Sơn có nhiều đóng góp lớn cho ngành y tế, đặc biệt là nỗ lực phát triển kỹ thuật cao trong ghép tạng. Ông cũng là trường hợp hiếm của ngành y ba nhiệm kỳ liên tiếp làm Giám đốc Bệnh viện Chợ Rẫy.\n",
    "Từ đầu năm 2020, Covid-19 bùng phát, Thứ trưởng Sơn có mặt chống dịch tại nhiều tuyến đầu như Đà Nẵng (giữa năm 2020); Bắc Giang, Bắc Ninh (đầu năm 2021); TP HCM (cuối năm 2021)...\n",
    "Thứ trưởng Sơn hai lần bị Ủy ban Kiểm tra Trung ương kỷ luật, trong đó tháng 11/2021 bị khiển trách liên quan sai phạm tại Cục Quản lý Dược và hai tháng sau bị Thủ tướng khiển trách về hành chính. Tháng 5/2022 ông bị Ủy ban Kiểm tra Trung ương cảnh cáo liên quan sự việc tại Công ty Việt Á.\"\"\"\n",
    "# doc = nlp(raw_text)\n",
    "doc = raw_text\n",
    "sentences = sent_tokenize(doc)\n",
    "sentences"
   ]
  }
 ],
 "metadata": {
  "kernelspec": {
   "display_name": "base",
   "language": "python",
   "name": "python3"
  },
  "language_info": {
   "codemirror_mode": {
    "name": "ipython",
    "version": 3
   },
   "file_extension": ".py",
   "mimetype": "text/x-python",
   "name": "python",
   "nbconvert_exporter": "python",
   "pygments_lexer": "ipython3",
   "version": "3.10.9"
  },
  "orig_nbformat": 4
 },
 "nbformat": 4,
 "nbformat_minor": 2
}
